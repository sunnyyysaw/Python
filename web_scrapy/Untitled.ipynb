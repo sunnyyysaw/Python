{
 "cells": [
  {
   "cell_type": "code",
   "execution_count": null,
   "id": "38606e75-a106-4dab-8829-fbee44d0ae36",
   "metadata": {},
   "outputs": [],
   "source": [
    "from bs4 import BeautifulSoup\n",
    "import requests\n",
    "import numpy as np\n",
    "import pandas as pd"
   ]
  },
  {
   "cell_type": "code",
   "execution_count": null,
   "id": "d281294d-e4e4-47f9-a986-6c5dde508955",
   "metadata": {},
   "outputs": [],
   "source": [
    "url = 'https://m.timesjobs.com/mobile/jobs-search-result.html?txtKeywords=Data+Analyst%2C&cboWorkExp1=-1&txtLocation='"
   ]
  },
  {
   "cell_type": "code",
   "execution_count": null,
   "id": "054a78a8-a6a6-440c-819f-e2c2f8cc0570",
   "metadata": {},
   "outputs": [],
   "source": [
    "html_text = requests.get(url)\n",
    "print(html_text)"
   ]
  },
  {
   "cell_type": "code",
   "execution_count": null,
   "id": "52b1c4c1-9843-4439-b136-d17c8fbf6bc5",
   "metadata": {},
   "outputs": [],
   "source": [
    "soup = BeautifulSoup(html_text.text, 'html')\n",
    "print(soup)"
   ]
  },
  {
   "cell_type": "code",
   "execution_count": null,
   "id": "544fdbe6-9ccc-4587-90fe-149b99a698fb",
   "metadata": {},
   "outputs": [],
   "source": [
    "print(soup.prettify())"
   ]
  },
  {
   "cell_type": "code",
   "execution_count": null,
   "id": "92f70116-7808-49f7-8136-7887fa1c1ca9",
   "metadata": {},
   "outputs": [],
   "source": [
    "jobs = soup.find_all('div', class_= 'srp-listing clearfix')\n",
    "jobs"
   ]
  },
  {
   "cell_type": "code",
   "execution_count": null,
   "id": "9b9857c9-5bdd-48a8-9c5e-7a50934b6a64",
   "metadata": {},
   "outputs": [],
   "source": [
    "for job_div in jobs:\n",
    "    job = job_div.find('span', class_='srp-comp-name')\n",
    "    print(job.text.strip() if job else \"No company name found\")"
   ]
  },
  {
   "cell_type": "code",
   "execution_count": null,
   "id": "cfe90178-e40d-4ff6-9778-57f5b3859224",
   "metadata": {},
   "outputs": [],
   "source": [
    "for skills in jobs:\n",
    "    skill = skills.find('div', class_= 'srp-keyskills').text.strip()\n",
    "    # ind_skill = [data for data in skill]\n",
    "    print(skill)"
   ]
  },
  {
   "cell_type": "code",
   "execution_count": null,
   "id": "765a6836-b70d-4e3b-bc98-0332ec7b3f0f",
   "metadata": {},
   "outputs": [],
   "source": [
    "for job_post in jobs:\n",
    "    post = job_post.find('span', class_= 'posting-time').text.strip()\n",
    "    print(post)"
   ]
  },
  {
   "cell_type": "code",
   "execution_count": null,
   "id": "93beee15-1479-4c2d-9589-755a7b4d0a34",
   "metadata": {},
   "outputs": [],
   "source": [
    "for job_item in jobs:\n",
    "    job = job_item.find('span', class_='srp-comp-name').text.strip() if job_item.find('span', class_='srp-comp-name') else 'N/A'\n",
    "    skill = job_item.find('div', class_='srp-keyskills').text.replace(' ', ', ') if job_item.find('div', class_='srp-keyskills') else 'N/A'\n",
    "    post = job_item.find('span', class_='posting-time').text.strip() if job_item.find('span', class_='posting-time') else 'N/A'\n",
    "    print('Company Name: {}\\nRequired Skills: {}\\nPosting Date: {}\\n'.format(job, skill, post))"
   ]
  },
  {
   "cell_type": "code",
   "execution_count": null,
   "id": "f63c34e6-3c0b-4c22-97a6-51b61c0465e9",
   "metadata": {},
   "outputs": [],
   "source": []
  }
 ],
 "metadata": {
  "kernelspec": {
   "display_name": "Python [conda env:base] *",
   "language": "python",
   "name": "conda-base-py"
  },
  "language_info": {
   "codemirror_mode": {
    "name": "ipython",
    "version": 3
   },
   "file_extension": ".py",
   "mimetype": "text/x-python",
   "name": "python",
   "nbconvert_exporter": "python",
   "pygments_lexer": "ipython3",
   "version": "3.13.5"
  }
 },
 "nbformat": 4,
 "nbformat_minor": 5
}
